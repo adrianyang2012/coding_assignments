{
  "nbformat": 4,
  "nbformat_minor": 0,
  "metadata": {
    "colab": {
      "private_outputs": true,
      "provenance": [],
      "authorship_tag": "ABX9TyO7Ta41LaLxs3SQxVp7hUmk",
      "include_colab_link": true
    },
    "kernelspec": {
      "name": "python3",
      "display_name": "Python 3"
    },
    "language_info": {
      "name": "python"
    }
  },
  "cells": [
    {
      "cell_type": "markdown",
      "metadata": {
        "id": "view-in-github",
        "colab_type": "text"
      },
      "source": [
        "<a href=\"https://colab.research.google.com/github/adrianyang2012/coding_assignments/blob/main/Coding_Homework.ipynb\" target=\"_parent\"><img src=\"https://colab.research.google.com/assets/colab-badge.svg\" alt=\"Open In Colab\"/></a>"
      ]
    },
    {
      "cell_type": "code",
      "source": [
        "import random\n",
        "import math"
      ],
      "metadata": {
        "id": "7iu3VnRLHi7Y"
      },
      "execution_count": null,
      "outputs": []
    },
    {
      "cell_type": "markdown",
      "source": [
        "# Problem 1"
      ],
      "metadata": {
        "id": "Q5Si1zQ5MhbB"
      }
    },
    {
      "cell_type": "code",
      "execution_count": null,
      "metadata": {
        "id": "8Dc3DhiSASXf"
      },
      "outputs": [],
      "source": [
        "def Kaylas_Homework_helper():\n",
        "  sum = 0\n",
        "  while True:\n",
        "    num = int(input('what is the number: '))\n",
        "    if num > 0:\n",
        "      sum+=num\n",
        "    else:\n",
        "      break\n",
        "  return sum\n",
        "Kaylas_Homework_helper()"
      ]
    },
    {
      "cell_type": "markdown",
      "source": [
        "# Problem 2"
      ],
      "metadata": {
        "id": "JO-LbyvcMi65"
      }
    },
    {
      "cell_type": "code",
      "source": [
        "def find_max():\n",
        "  max = float('-inf')\n",
        "  while True:\n",
        "    num = int(input('type a number: '))\n",
        "    if num > 0:\n",
        "      if num > max:\n",
        "        max = num\n",
        "    else:\n",
        "      break\n",
        "  return max\n",
        "find_max()"
      ],
      "metadata": {
        "id": "w0fI_saoBPkq"
      },
      "execution_count": null,
      "outputs": []
    },
    {
      "cell_type": "markdown",
      "source": [
        "# Problem 3"
      ],
      "metadata": {
        "id": "ajovw9hLMlCg"
      }
    },
    {
      "cell_type": "code",
      "source": [
        "#########################################\n",
        "# the example for this question is wrong#\n",
        "#########################################\n",
        "def square_sum(n):\n",
        "  ans = [[0 for i in range(0,n)] for j in range(0,n)]\n",
        "  for i in range(0,n):\n",
        "    ans[i][0] = 1\n",
        "    ans[0][i] = 1\n",
        "  for i in range(1,n):\n",
        "    for j in range(1,n):\n",
        "      ans[j][i] = ans[j-1][i] + ans[j][i-1]\n",
        "  for i in range(0,len(ans)):\n",
        "    print('')\n",
        "    for j in range(0,len(ans[i])):\n",
        "      print(ans[i][j],end=' ')\n",
        "  return ans\n",
        "\n",
        "sqaure = square_sum(5)"
      ],
      "metadata": {
        "id": "29jLFzEvB08Z"
      },
      "execution_count": null,
      "outputs": []
    },
    {
      "cell_type": "markdown",
      "source": [
        "# Problem 4"
      ],
      "metadata": {
        "id": "xNSOCqblMvoY"
      }
    },
    {
      "cell_type": "code",
      "source": [
        "def detect_prime(n):\n",
        "  for i in range(2,int(math.sqrt(n))+1):\n",
        "    if n%i == 0:\n",
        "      return False\n",
        "  return True\n",
        "detect_prime(5)"
      ],
      "metadata": {
        "id": "XFfdU9ayEB6Z"
      },
      "execution_count": null,
      "outputs": []
    },
    {
      "cell_type": "markdown",
      "source": [
        "#Problem 5"
      ],
      "metadata": {
        "id": "v6obsN2bMx7R"
      }
    },
    {
      "cell_type": "code",
      "source": [
        "def guessing_game():\n",
        "  ans = random.randint(1,100)\n",
        "  for i in range(0,10):\n",
        "\n",
        "    print(f'you have {10-i} {[\"try\" if i == 9 else \"tries\"][0]} left')\n",
        "    num = int(input('what number are you guessing: '))\n",
        "    if ans > num:\n",
        "      print('you guessed too small!')\n",
        "    elif ans < num:\n",
        "      print('you guessed too big!')\n",
        "    else:\n",
        "      print('you got it right!')\n",
        "      break\n",
        "  if ans != num:\n",
        "    print('sorry, you used up all your tries')\n",
        "\n",
        "guessing_game()"
      ],
      "metadata": {
        "id": "106YRkejEjRZ"
      },
      "execution_count": null,
      "outputs": []
    },
    {
      "cell_type": "markdown",
      "source": [
        "# Problem 6"
      ],
      "metadata": {
        "id": "G4rdSza9M1H5"
      }
    },
    {
      "cell_type": "code",
      "source": [
        "def shuffler(n):\n",
        "  li  = [random.randint(1,n) for i in range(0,20)]\n",
        "  return li\n",
        "shuffler(10000)"
      ],
      "metadata": {
        "id": "oQkt52aHHfGg"
      },
      "execution_count": null,
      "outputs": []
    },
    {
      "cell_type": "markdown",
      "source": [
        "#Problem 7"
      ],
      "metadata": {
        "id": "AM1q1yZXM3JC"
      }
    },
    {
      "cell_type": "code",
      "source": [
        "def square_detecter(n):\n",
        "  for i in range(0,int(n/2)+2):\n",
        "    if i*i == n:\n",
        "      return True\n",
        "  return False\n",
        "square_detecter(81)"
      ],
      "metadata": {
        "id": "mruZPehjH9K5"
      },
      "execution_count": null,
      "outputs": []
    },
    {
      "cell_type": "markdown",
      "source": [
        "#Problem 8"
      ],
      "metadata": {
        "id": "IP2tax3rM5vS"
      }
    },
    {
      "cell_type": "code",
      "source": [
        "def sort(li):\n",
        "  if li:\n",
        "    p = li[0]\n",
        "    li.remove(p)\n",
        "    li1 = sort([li[i] for i in range(0,len(li)) if li[i]<=p])\n",
        "    li2 = sort([li[i] for i in range(0,len(li)) if li[i]>p])\n",
        "    return li1+[p]+li2\n",
        "\n",
        "  else:\n",
        "    return []\n",
        "sort([100,2,3,41,-100,12])"
      ],
      "metadata": {
        "id": "7aDIqNXnIXyJ"
      },
      "execution_count": null,
      "outputs": []
    },
    {
      "cell_type": "markdown",
      "source": [
        "# Problem 9"
      ],
      "metadata": {
        "id": "vxJjehRZM8YR"
      }
    },
    {
      "cell_type": "code",
      "source": [
        "#uses sort code from previous problem\n",
        "def find_median(li):\n",
        "  return sort(li)[int(len(li)/2 +0.5)-1]\n",
        "find_median([-20,1,2.5,4,5,6,7,8,100])"
      ],
      "metadata": {
        "id": "tPqr353hKqBJ"
      },
      "execution_count": null,
      "outputs": []
    },
    {
      "cell_type": "markdown",
      "source": [
        "# Problem 10"
      ],
      "metadata": {
        "id": "E2lLcz3JM-9a"
      }
    },
    {
      "cell_type": "code",
      "source": [
        "def like_even_numbers(li):\n",
        "  evens = [item for item in li if item%2==0]\n",
        "  odds = [item for item in li if item%2==1]\n",
        "  return evens+odds\n",
        "like_even_numbers([1,3,2,2,3,4])"
      ],
      "metadata": {
        "id": "t9nI__78Lshr"
      },
      "execution_count": null,
      "outputs": []
    }
  ]
}